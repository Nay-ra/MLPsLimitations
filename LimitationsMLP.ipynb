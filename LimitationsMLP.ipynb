{
  "nbformat": 4,
  "nbformat_minor": 0,
  "metadata": {
    "colab": {
      "provenance": []
    },
    "kernelspec": {
      "name": "python3",
      "display_name": "Python 3"
    },
    "language_info": {
      "name": "python"
    }
  },
  "cells": [
    {
      "cell_type": "code",
      "execution_count": null,
      "metadata": {
        "colab": {
          "base_uri": "https://localhost:8080/"
        },
        "id": "68vcgc1theHn",
        "outputId": "bab9dcb6-e0cb-42bf-f625-c8d120601ccd"
      },
      "outputs": [
        {
          "output_type": "stream",
          "name": "stdout",
          "text": [
            "Epoch [20/20], Loss: 0.0017\n"
          ]
        }
      ],
      "source": [
        "import torch\n",
        "import torch.nn as nn\n",
        "import torch.nn.init as init\n",
        "from torch.utils.data import DataLoader\n",
        "import torchvision\n",
        "import torchvision.transforms as transforms\n",
        "\n",
        "model = nn.Sequential(\n",
        "    nn.Linear(784, 196),  # Input layer starting with number of pixels\n",
        "    nn.ReLU(),           # ReLU Activation\n",
        "    nn.Linear(196, 49),  # Hidden layer 1\n",
        "    nn.ReLU(),           # ReLU Activation again\n",
        "    nn.Linear(49, 10),   # Hidden layer 2\n",
        "    nn.Softmax(dim=1)    # Softmax to convert data to propabilites\n",
        ")\n",
        "\n",
        "for layer in model.modules():\n",
        "    if isinstance(layer, nn.Linear):\n",
        "        init.kaiming_uniform_(layer.weight, nonlinearity='relu')\n",
        "        if layer.bias is not None:\n",
        "            init.zeros_(layer.bias)\n",
        "transform = transforms.Compose([\n",
        "    transforms.ToTensor(),\n",
        "    transforms.Normalize((0.5,), (0.5,))  #\n",
        "])\n",
        "\n",
        "train_dataset = torchvision.datasets.FashionMNIST(root='./data', train=True, download=True, transform=transform)\n",
        "test_dataset = torchvision.datasets.FashionMNIST(root='./data', train=False, download=True, transform=transform)\n",
        "train_loader = DataLoader(train_dataset, batch_size=64, shuffle=True)\n",
        "test_loader = DataLoader(test_dataset, batch_size=64, shuffle=False)\n",
        "\n",
        "optimizer = torch.optim.Adam(model.parameters(), lr=0.001) # Adam optimization\n",
        "loss_fn = nn.CrossEntropyLoss() # loss function\n",
        "\n",
        "\n",
        "num_epochs = 20\n",
        "for epoch in range(num_epochs):\n",
        "    model.train()\n",
        "    running_loss = 0.0\n",
        "for batch_idx, (images, labels) in enumerate(train_loader):\n",
        "    images = images.view(-1, 784)\n",
        "    optimizer.zero_grad()\n",
        "    outputs = model(images)\n",
        "    loss = loss_fn(outputs, labels)\n",
        "    loss.backward()\n",
        "    optimizer.step()\n",
        "running_loss += loss.item()\n",
        "\n",
        "print(f\"Epoch [{epoch+1}/{num_epochs}], Loss: {running_loss/len(train_loader):.4f}\")\n",
        "\n"
      ]
    }
  ]
}